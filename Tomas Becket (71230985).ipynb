{
 "cells": [
  {
   "cell_type": "code",
   "execution_count": 5,
   "id": "5290ac60-7a27-436c-b0cf-41329af07d9f",
   "metadata": {},
   "outputs": [
    {
     "name": "stdin",
     "output_type": "stream",
     "text": [
      "Masukkan suhu tubuh:  35\n"
     ]
    },
    {
     "name": "stdout",
     "output_type": "stream",
     "text": [
      "Anda tidak demam\n"
     ]
    },
    {
     "name": "stdin",
     "output_type": "stream",
     "text": [
      "Masukkan suatu bilangan:  5\n"
     ]
    },
    {
     "name": "stdout",
     "output_type": "stream",
     "text": [
      "Positif\n"
     ]
    },
    {
     "name": "stdin",
     "output_type": "stream",
     "text": [
      "Masukkan bilangan pertama:  3\n",
      "Masukkan bilangan kedua:  4\n",
      "Masukkan bilangan ketiga:  5\n"
     ]
    },
    {
     "name": "stdout",
     "output_type": "stream",
     "text": [
      "Terbesar:  5\n"
     ]
    }
   ],
   "source": [
    "# LATIHAN 3.1 CONTOH 3.1\n",
    "try:\n",
    "    suhu = float(input(\"Masukkan suhu tubuh: \"))\n",
    "    if suhu >= 38:\n",
    "        print(\"Anda demam\")\n",
    "    else:\n",
    "        print(\"Anda tidak demam\")\n",
    "\n",
    "except:\n",
    "    print(\"Kesalahan input\")\n",
    "\n",
    "# LATIHAN 3.1 CONTOH 3.2\n",
    "try:\n",
    "    bilangan = float(input(\"Masukkan suatu bilangan: \"))\n",
    "    if bilangan > 0:\n",
    "        print(\"Positif\")\n",
    "    elif bilangan < 0:\n",
    "        print(\"Negatif\")\n",
    "    elif bilangan == 0:\n",
    "        print(\"Nol\")\n",
    "\n",
    "except:\n",
    "    print(\"Kesalahan input\")\n",
    "\n",
    "#  LATIHAN 3.1 CONTOH 3.3\n",
    "try:\n",
    "    a = int(input(\"Masukkan bilangan pertama: \"))\n",
    "    b = int(input(\"Masukkan bilangan kedua: \"))\n",
    "    c = int(input(\"Masukkan bilangan ketiga: \"))\n",
    "\n",
    "    if a > b and a > c:\n",
    "        print(\"Terbesar: \", a)\n",
    "    elif b > a and b > c:\n",
    "        print(\"Terbesar: \", b)\n",
    "    elif c > a and c > b:\n",
    "        print(\"Terbesar: \", c)\n",
    "\n",
    "except:\n",
    "    print(\"Kesalah Input\")"
   ]
  },
  {
   "cell_type": "code",
   "execution_count": 2,
   "id": "de155e16-4cd3-4a8e-8aa8-2eb79ae77b7a",
   "metadata": {},
   "outputs": [
    {
     "name": "stdin",
     "output_type": "stream",
     "text": [
      "Masukkan suatu bilangan:  1\n"
     ]
    },
    {
     "name": "stdout",
     "output_type": "stream",
     "text": [
      "Positif\n"
     ]
    }
   ],
   "source": [
    "# LATIHAN 3.2\n",
    "bilangan = float(input(\"Masukkan suatu bilangan: \"))\n",
    "print(\"Positif\") if bilangan > 0 else print(\"Negatif\") if bilangan < 0 else print(\"Nol\")"
   ]
  },
  {
   "cell_type": "code",
   "execution_count": 7,
   "id": "6d540aa5-9fcc-484b-ab26-da9845966e6e",
   "metadata": {},
   "outputs": [
    {
     "name": "stdin",
     "output_type": "stream",
     "text": [
      "Masukkan bulan (1-12):  Test\n"
     ]
    },
    {
     "name": "stdout",
     "output_type": "stream",
     "text": [
      "bulan yang diinputkan tidak valid.\n"
     ]
    }
   ],
   "source": [
    "# LATIHAN 3.3\n",
    "def jumlah_hari():\n",
    "    try:\n",
    "        bulan = int(input(\"Masukkan bulan (1-12): \"))\n",
    "        if bulan < 1 or bulan > 12:\n",
    "            print(\"bulan yang diinputkan tidak valid.\")\n",
    "        else:\n",
    "            if bulan in [1, 3, 5, 7, 8, 10, 12]:\n",
    "                print(\"Jumlah hari: 31\")\n",
    "            elif bulan in [4, 6, 9, 11]:\n",
    "                print(\"Jumlah hari: 30\")\n",
    "            else:\n",
    "                print(\"Jumlah hari: 29 (Tahun kabisat)\")\n",
    "    except:\n",
    "        print(\"bulan yang diinputkan tidak valid.\")\n",
    "\n",
    "jumlah_hari()"
   ]
  },
  {
   "cell_type": "code",
   "execution_count": 15,
   "id": "f4d73f69-e187-45ed-8ef0-2323ce7401cd",
   "metadata": {},
   "outputs": [
    {
     "name": "stdin",
     "output_type": "stream",
     "text": [
      "Masukan Sisi 1:  1\n",
      "Masukan Sisi 2:  2\n",
      "Masukan Sisi 3:  3\n"
     ]
    },
    {
     "name": "stdout",
     "output_type": "stream",
     "text": [
      "Tidak ada yang sama\n"
     ]
    }
   ],
   "source": [
    "# LATIHAN 3.4\n",
    "def sisi_segitiga():\n",
    "    try:\n",
    "        a = float(input(\"Masukan Sisi 1: \"))\n",
    "        b = float(input(\"Masukan Sisi 2: \"))\n",
    "        c = float(input(\"Masukan Sisi 3: \"))\n",
    "        if a == b == c:\n",
    "            print(\"3 sisi sama\")\n",
    "        elif (a == b and c) or (b == c and a) or (c == a and b):\n",
    "            print(\"2 sisi sama\")\n",
    "        elif (a != b and c) or (b != c and a) or (c != a and b):\n",
    "            print(\"Tidak ada yang sama\")\n",
    "\n",
    "    except:\n",
    "        print(\"Input tidak valid.\")\n",
    "\n",
    "sisi_segitiga()"
   ]
  },
  {
   "cell_type": "code",
   "execution_count": null,
   "id": "1ca88716-121c-4392-8706-ebf2c79738f6",
   "metadata": {},
   "outputs": [],
   "source": []
  }
 ],
 "metadata": {
  "kernelspec": {
   "display_name": "Python 3 (ipykernel)",
   "language": "python",
   "name": "python3"
  },
  "language_info": {
   "codemirror_mode": {
    "name": "ipython",
    "version": 3
   },
   "file_extension": ".py",
   "mimetype": "text/x-python",
   "name": "python",
   "nbconvert_exporter": "python",
   "pygments_lexer": "ipython3",
   "version": "3.11.3"
  }
 },
 "nbformat": 4,
 "nbformat_minor": 5
}
